{
 "cells": [
  {
   "cell_type": "markdown",
   "metadata": {},
   "source": [
    "## Work\n",
    "1. 試比較 save_best_only 與否的差異\n",
    "2. 請僅存入將 save_weights_only 設定為 True, 並嘗試 reset ipynb 並將模型與權重重新建回並預測 x_test"
   ]
  },
  {
   "cell_type": "code",
   "execution_count": 1,
   "metadata": {},
   "outputs": [
    {
     "name": "stderr",
     "output_type": "stream",
     "text": [
      "Using TensorFlow backend.\n"
     ]
    }
   ],
   "source": [
    "import os\n",
    "import keras\n",
    "\n",
    "# Disable GPU\n",
    "os.environ[\"CUDA_VISIBLE_DEVICES\"] = \"\""
   ]
  },
  {
   "cell_type": "code",
   "execution_count": 2,
   "metadata": {},
   "outputs": [],
   "source": [
    "train, test = keras.datasets.cifar10.load_data()"
   ]
  },
  {
   "cell_type": "code",
   "execution_count": 3,
   "metadata": {},
   "outputs": [],
   "source": [
    "## 資料前處理\n",
    "def preproc_x(x, flatten=True):\n",
    "    x = x / 255.\n",
    "    if flatten:\n",
    "        x = x.reshape((len(x), -1))\n",
    "    return x\n",
    "\n",
    "def preproc_y(y, num_classes=10):\n",
    "    if y.shape[-1] == 1:\n",
    "        y = keras.utils.to_categorical(y, num_classes)\n",
    "    return y    "
   ]
  },
  {
   "cell_type": "code",
   "execution_count": 4,
   "metadata": {},
   "outputs": [],
   "source": [
    "x_train, y_train = train\n",
    "x_test, y_test = test\n",
    "\n",
    "# Preproc the inputs\n",
    "x_train = preproc_x(x_train)\n",
    "x_test = preproc_x(x_test)\n",
    "\n",
    "# Preprc the outputs\n",
    "y_train = preproc_y(y_train)\n",
    "y_test = preproc_y(y_test)"
   ]
  },
  {
   "cell_type": "code",
   "execution_count": 5,
   "metadata": {},
   "outputs": [],
   "source": [
    "from keras.layers import BatchNormalization\n",
    "def build_mlp(input_shape, output_units=10, num_neurons=[512, 256, 128]):\n",
    "    input_layer = keras.layers.Input(input_shape)\n",
    "    \n",
    "    for i, n_units in enumerate(num_neurons):\n",
    "        if i == 0:\n",
    "            x = keras.layers.Dense(units=n_units, \n",
    "                                   activation=\"relu\", \n",
    "                                   name=\"hidden_layer\"+str(i+1))(input_layer)\n",
    "            x = BatchNormalization()(x)\n",
    "        else:\n",
    "            x = keras.layers.Dense(units=n_units, \n",
    "                                   activation=\"relu\", \n",
    "                                   name=\"hidden_layer\"+str(i+1))(x)\n",
    "            x = BatchNormalization()(x)\n",
    "    \n",
    "    out = keras.layers.Dense(units=output_units, activation=\"softmax\", name=\"output\")(x)\n",
    "    \n",
    "    model = keras.models.Model(inputs=[input_layer], outputs=[out])\n",
    "    return model"
   ]
  },
  {
   "cell_type": "code",
   "execution_count": 6,
   "metadata": {},
   "outputs": [],
   "source": [
    "## 超參數設定\n",
    "LEARNING_RATE = 1e-3\n",
    "EPOCHS = 50\n",
    "BATCH_SIZE = 1024\n",
    "MOMENTUM = 0.95"
   ]
  },
  {
   "cell_type": "code",
   "execution_count": 7,
   "metadata": {},
   "outputs": [],
   "source": [
    "# 載入 Callbacks\n",
    "from keras.callbacks import ModelCheckpoint\n",
    "\n",
    "model_ckpt = ModelCheckpoint(filepath=\"./tmp.h5\", \n",
    "                             monitor=\"val_loss\", \n",
    "                             save_best_only=True)"
   ]
  },
  {
   "cell_type": "code",
   "execution_count": 8,
   "metadata": {
    "scrolled": true
   },
   "outputs": [
    {
     "name": "stdout",
     "output_type": "stream",
     "text": [
      "WARNING:tensorflow:From C:\\Users\\LuckyLin\\Anaconda3\\lib\\site-packages\\keras\\backend\\tensorflow_backend.py:74: The name tf.get_default_graph is deprecated. Please use tf.compat.v1.get_default_graph instead.\n",
      "\n",
      "WARNING:tensorflow:From C:\\Users\\LuckyLin\\Anaconda3\\lib\\site-packages\\keras\\backend\\tensorflow_backend.py:517: The name tf.placeholder is deprecated. Please use tf.compat.v1.placeholder instead.\n",
      "\n",
      "WARNING:tensorflow:From C:\\Users\\LuckyLin\\Anaconda3\\lib\\site-packages\\keras\\backend\\tensorflow_backend.py:4138: The name tf.random_uniform is deprecated. Please use tf.random.uniform instead.\n",
      "\n",
      "WARNING:tensorflow:From C:\\Users\\LuckyLin\\Anaconda3\\lib\\site-packages\\keras\\backend\\tensorflow_backend.py:133: The name tf.placeholder_with_default is deprecated. Please use tf.compat.v1.placeholder_with_default instead.\n",
      "\n",
      "_________________________________________________________________\n",
      "Layer (type)                 Output Shape              Param #   \n",
      "=================================================================\n",
      "input_1 (InputLayer)         (None, 3072)              0         \n",
      "_________________________________________________________________\n",
      "hidden_layer1 (Dense)        (None, 512)               1573376   \n",
      "_________________________________________________________________\n",
      "batch_normalization_1 (Batch (None, 512)               2048      \n",
      "_________________________________________________________________\n",
      "hidden_layer2 (Dense)        (None, 256)               131328    \n",
      "_________________________________________________________________\n",
      "batch_normalization_2 (Batch (None, 256)               1024      \n",
      "_________________________________________________________________\n",
      "hidden_layer3 (Dense)        (None, 128)               32896     \n",
      "_________________________________________________________________\n",
      "batch_normalization_3 (Batch (None, 128)               512       \n",
      "_________________________________________________________________\n",
      "output (Dense)               (None, 10)                1290      \n",
      "=================================================================\n",
      "Total params: 1,742,474\n",
      "Trainable params: 1,740,682\n",
      "Non-trainable params: 1,792\n",
      "_________________________________________________________________\n",
      "WARNING:tensorflow:From C:\\Users\\LuckyLin\\Anaconda3\\lib\\site-packages\\keras\\optimizers.py:790: The name tf.train.Optimizer is deprecated. Please use tf.compat.v1.train.Optimizer instead.\n",
      "\n",
      "WARNING:tensorflow:From C:\\Users\\LuckyLin\\Anaconda3\\lib\\site-packages\\keras\\backend\\tensorflow_backend.py:3295: The name tf.log is deprecated. Please use tf.math.log instead.\n",
      "\n",
      "WARNING:tensorflow:From C:\\Users\\LuckyLin\\Anaconda3\\lib\\site-packages\\tensorflow\\python\\ops\\math_grad.py:1250: add_dispatch_support.<locals>.wrapper (from tensorflow.python.ops.array_ops) is deprecated and will be removed in a future version.\n",
      "Instructions for updating:\n",
      "Use tf.where in 2.0, which has the same broadcast rule as np.where\n",
      "Train on 50000 samples, validate on 10000 samples\n",
      "Epoch 1/50\n",
      "50000/50000 [==============================] - 36s 718us/step - loss: 2.2559 - acc: 0.2583 - val_loss: 2.1052 - val_acc: 0.3179\n",
      "Epoch 2/50\n",
      "50000/50000 [==============================] - 29s 573us/step - loss: 1.7477 - acc: 0.3897 - val_loss: 1.7973 - val_acc: 0.3807\n",
      "Epoch 3/50\n",
      "50000/50000 [==============================] - 29s 577us/step - loss: 1.6245 - acc: 0.4331 - val_loss: 1.6961 - val_acc: 0.4150\n",
      "Epoch 4/50\n",
      "50000/50000 [==============================] - 29s 570us/step - loss: 1.5537 - acc: 0.4562 - val_loss: 1.6516 - val_acc: 0.4290\n",
      "Epoch 5/50\n",
      "50000/50000 [==============================] - 28s 564us/step - loss: 1.4979 - acc: 0.4761 - val_loss: 1.5970 - val_acc: 0.4401\n",
      "Epoch 6/50\n",
      "50000/50000 [==============================] - 28s 566us/step - loss: 1.4524 - acc: 0.4924 - val_loss: 1.5693 - val_acc: 0.4526\n",
      "Epoch 7/50\n",
      "50000/50000 [==============================] - 29s 580us/step - loss: 1.4144 - acc: 0.5060 - val_loss: 1.5558 - val_acc: 0.4564\n",
      "Epoch 8/50\n",
      "50000/50000 [==============================] - 28s 567us/step - loss: 1.3779 - acc: 0.5207 - val_loss: 1.5301 - val_acc: 0.4657\n",
      "Epoch 9/50\n",
      "50000/50000 [==============================] - 28s 569us/step - loss: 1.3453 - acc: 0.5326 - val_loss: 1.5232 - val_acc: 0.4697\n",
      "Epoch 10/50\n",
      "50000/50000 [==============================] - 28s 560us/step - loss: 1.3162 - acc: 0.5431 - val_loss: 1.5112 - val_acc: 0.4700\n",
      "Epoch 11/50\n",
      "50000/50000 [==============================] - 29s 573us/step - loss: 1.2883 - acc: 0.5531 - val_loss: 1.4939 - val_acc: 0.4717\n",
      "Epoch 12/50\n",
      "50000/50000 [==============================] - 29s 572us/step - loss: 1.2592 - acc: 0.5661 - val_loss: 1.4974 - val_acc: 0.4715\n",
      "Epoch 13/50\n",
      "50000/50000 [==============================] - 29s 572us/step - loss: 1.2333 - acc: 0.5737 - val_loss: 1.4722 - val_acc: 0.4832\n",
      "Epoch 14/50\n",
      "50000/50000 [==============================] - 28s 568us/step - loss: 1.2080 - acc: 0.5840 - val_loss: 1.4753 - val_acc: 0.4837\n",
      "Epoch 15/50\n",
      "50000/50000 [==============================] - 28s 563us/step - loss: 1.1833 - acc: 0.5922 - val_loss: 1.4740 - val_acc: 0.4832\n",
      "Epoch 16/50\n",
      "50000/50000 [==============================] - 29s 573us/step - loss: 1.1596 - acc: 0.6019 - val_loss: 1.4672 - val_acc: 0.4832\n",
      "Epoch 17/50\n",
      "50000/50000 [==============================] - 29s 582us/step - loss: 1.1352 - acc: 0.6115 - val_loss: 1.4629 - val_acc: 0.4844\n",
      "Epoch 18/50\n",
      "50000/50000 [==============================] - 29s 577us/step - loss: 1.1138 - acc: 0.6192 - val_loss: 1.4601 - val_acc: 0.4825\n",
      "Epoch 19/50\n",
      "50000/50000 [==============================] - 28s 554us/step - loss: 1.0906 - acc: 0.6273 - val_loss: 1.4659 - val_acc: 0.4897\n",
      "Epoch 20/50\n",
      "50000/50000 [==============================] - 29s 575us/step - loss: 1.0683 - acc: 0.6355 - val_loss: 1.4561 - val_acc: 0.4880\n",
      "Epoch 21/50\n",
      "50000/50000 [==============================] - 28s 565us/step - loss: 1.0434 - acc: 0.6455 - val_loss: 1.4576 - val_acc: 0.4914\n",
      "Epoch 22/50\n",
      "50000/50000 [==============================] - 29s 576us/step - loss: 1.0238 - acc: 0.6524 - val_loss: 1.4632 - val_acc: 0.4885\n",
      "Epoch 23/50\n",
      "50000/50000 [==============================] - 28s 567us/step - loss: 1.0022 - acc: 0.6633 - val_loss: 1.4616 - val_acc: 0.4918\n",
      "Epoch 24/50\n",
      "50000/50000 [==============================] - 28s 562us/step - loss: 0.9828 - acc: 0.6700 - val_loss: 1.4557 - val_acc: 0.4925\n",
      "Epoch 25/50\n",
      "50000/50000 [==============================] - 28s 569us/step - loss: 0.9592 - acc: 0.6796 - val_loss: 1.4589 - val_acc: 0.4939\n",
      "Epoch 26/50\n",
      "50000/50000 [==============================] - 29s 584us/step - loss: 0.9385 - acc: 0.6875 - val_loss: 1.4651 - val_acc: 0.4928\n",
      "Epoch 27/50\n",
      "50000/50000 [==============================] - 28s 568us/step - loss: 0.9181 - acc: 0.6954 - val_loss: 1.4709 - val_acc: 0.4930\n",
      "Epoch 28/50\n",
      "50000/50000 [==============================] - 29s 573us/step - loss: 0.8962 - acc: 0.7050 - val_loss: 1.4656 - val_acc: 0.4960\n",
      "Epoch 29/50\n",
      "50000/50000 [==============================] - 28s 560us/step - loss: 0.8768 - acc: 0.7122 - val_loss: 1.4697 - val_acc: 0.4954\n",
      "Epoch 30/50\n",
      "50000/50000 [==============================] - 29s 573us/step - loss: 0.8573 - acc: 0.7189 - val_loss: 1.4839 - val_acc: 0.4947\n",
      "Epoch 31/50\n",
      "50000/50000 [==============================] - 29s 572us/step - loss: 0.8361 - acc: 0.7265 - val_loss: 1.4837 - val_acc: 0.4950\n",
      "Epoch 32/50\n",
      "50000/50000 [==============================] - 29s 572us/step - loss: 0.8158 - acc: 0.7360 - val_loss: 1.4801 - val_acc: 0.5012\n",
      "Epoch 33/50\n",
      "50000/50000 [==============================] - 28s 555us/step - loss: 0.7971 - acc: 0.7433 - val_loss: 1.5058 - val_acc: 0.4861\n",
      "Epoch 34/50\n",
      "50000/50000 [==============================] - 29s 574us/step - loss: 0.7758 - acc: 0.7511 - val_loss: 1.5327 - val_acc: 0.4870\n",
      "Epoch 35/50\n",
      "50000/50000 [==============================] - 29s 580us/step - loss: 0.7574 - acc: 0.7591 - val_loss: 1.5158 - val_acc: 0.4960\n",
      "Epoch 36/50\n",
      "50000/50000 [==============================] - 29s 570us/step - loss: 0.7377 - acc: 0.7657 - val_loss: 1.5332 - val_acc: 0.4907\n",
      "Epoch 37/50\n",
      "50000/50000 [==============================] - 37s 746us/step - loss: 0.7199 - acc: 0.7739 - val_loss: 1.5209 - val_acc: 0.4914\n",
      "Epoch 38/50\n"
     ]
    },
    {
     "name": "stdout",
     "output_type": "stream",
     "text": [
      "50000/50000 [==============================] - 96s 2ms/step - loss: 0.6970 - acc: 0.7823 - val_loss: 1.5212 - val_acc: 0.4988\n",
      "Epoch 39/50\n",
      "50000/50000 [==============================] - 97s 2ms/step - loss: 0.6816 - acc: 0.7902 - val_loss: 1.5448 - val_acc: 0.4938\n",
      "Epoch 40/50\n",
      "50000/50000 [==============================] - 95s 2ms/step - loss: 0.6636 - acc: 0.7958 - val_loss: 1.5649 - val_acc: 0.4918\n",
      "Epoch 41/50\n",
      "50000/50000 [==============================] - 99s 2ms/step - loss: 0.6419 - acc: 0.8034 - val_loss: 1.5625 - val_acc: 0.4916\n",
      "Epoch 42/50\n",
      "50000/50000 [==============================] - 98s 2ms/step - loss: 0.6258 - acc: 0.8097 - val_loss: 1.5709 - val_acc: 0.4941\n",
      "Epoch 43/50\n",
      "50000/50000 [==============================] - 95s 2ms/step - loss: 0.6075 - acc: 0.8183 - val_loss: 1.5878 - val_acc: 0.4970\n",
      "Epoch 44/50\n",
      "50000/50000 [==============================] - 103s 2ms/step - loss: 0.5870 - acc: 0.8261 - val_loss: 1.6183 - val_acc: 0.4926\n",
      "Epoch 45/50\n",
      "50000/50000 [==============================] - 101s 2ms/step - loss: 0.5708 - acc: 0.8322 - val_loss: 1.6051 - val_acc: 0.4915\n",
      "Epoch 46/50\n",
      "50000/50000 [==============================] - 96s 2ms/step - loss: 0.5529 - acc: 0.8395 - val_loss: 1.6276 - val_acc: 0.4925\n",
      "Epoch 47/50\n",
      "50000/50000 [==============================] - 98s 2ms/step - loss: 0.5366 - acc: 0.8474 - val_loss: 1.6485 - val_acc: 0.4840\n",
      "Epoch 48/50\n",
      "50000/50000 [==============================] - 96s 2ms/step - loss: 0.5187 - acc: 0.8539 - val_loss: 1.6468 - val_acc: 0.4888\n",
      "Epoch 49/50\n",
      "50000/50000 [==============================] - 100s 2ms/step - loss: 0.5026 - acc: 0.8605 - val_loss: 1.6538 - val_acc: 0.4880\n",
      "Epoch 50/50\n",
      "50000/50000 [==============================] - 7657s 153ms/step - loss: 0.4871 - acc: 0.8673 - val_loss: 1.6719 - val_acc: 0.4857\n"
     ]
    }
   ],
   "source": [
    "model = build_mlp(input_shape=x_train.shape[1:])\n",
    "model.summary()\n",
    "optimizer = keras.optimizers.SGD(lr=LEARNING_RATE, nesterov=True, momentum=MOMENTUM)\n",
    "model.compile(loss=\"categorical_crossentropy\", metrics=[\"accuracy\"], optimizer=optimizer)\n",
    "\n",
    "model.fit(x_train, y_train, \n",
    "          epochs=EPOCHS, \n",
    "          batch_size=BATCH_SIZE, \n",
    "          validation_data=(x_test, y_test), \n",
    "          shuffle=True,\n",
    "          callbacks=[model_ckpt]\n",
    "         )\n",
    "model.save(\"final_model.h5\")\n",
    "model.save_weights(\"model_weights.h5\")\n",
    "# Collect results\n",
    "train_loss = model.history.history[\"loss\"]\n",
    "valid_loss = model.history.history[\"val_loss\"]\n",
    "train_acc = model.history.history[\"acc\"]\n",
    "valid_acc = model.history.history[\"val_acc\"]\n",
    "\n",
    "pred_final = model.predict(x_test)\n",
    "# Load back\n",
    "model = keras.models.load_model(\"./tmp.h5\")\n",
    "pred_loadback = model.predict(x_test)"
   ]
  },
  {
   "cell_type": "code",
   "execution_count": 9,
   "metadata": {},
   "outputs": [
    {
     "name": "stdout",
     "output_type": "stream",
     "text": [
      "Accuracy of final weights: 0.492\n",
      "Accuracy of best weights: 0.497\n"
     ]
    }
   ],
   "source": [
    "from sklearn.metrics import accuracy_score\n",
    "\n",
    "final_model_acc = accuracy_score(y_true=y_test.argmax(axis=-1), y_pred=pred_final.argmax(axis=-1))\n",
    "loadback_acc = accuracy_score(y_true=y_test.argmax(axis=-1), y_pred=pred_loadback.argmax(axis=-1))\n",
    "\n",
    "print(\"Accuracy of final weights: %.3f\" % final_model_acc)\n",
    "print(\"Accuracy of best weights: %.3f\" % loadback_acc)"
   ]
  },
  {
   "cell_type": "code",
   "execution_count": 10,
   "metadata": {},
   "outputs": [
    {
     "name": "stdout",
     "output_type": "stream",
     "text": [
      "Accuracy of best weights: 0.103\n",
      "Accuracy of best weights: 0.492\n"
     ]
    }
   ],
   "source": [
    "new_model = build_mlp(input_shape=x_train.shape[1:])\n",
    "new_model_pred = new_model.predict(x_test)\n",
    "new_model_acc = accuracy_score(y_true=y_test.argmax(axis=-1), y_pred=new_model_pred.argmax(axis=-1))\n",
    "print(\"Accuracy of best weights: %.3f\" % new_model_acc)\n",
    "\n",
    "new_model.load_weights(\"./model_weights.h5\")\n",
    "new_model_pred = new_model.predict(x_test)\n",
    "new_model_loadback_acc = accuracy_score(y_true=y_test.argmax(axis=-1), y_pred=new_model_pred.argmax(axis=-1))\n",
    "print(\"Accuracy of best weights: %.3f\" % new_model_loadback_acc)"
   ]
  }
 ],
 "metadata": {
  "kernelspec": {
   "display_name": "Python 3",
   "language": "python",
   "name": "python3"
  },
  "language_info": {
   "codemirror_mode": {
    "name": "ipython",
    "version": 3
   },
   "file_extension": ".py",
   "mimetype": "text/x-python",
   "name": "python",
   "nbconvert_exporter": "python",
   "pygments_lexer": "ipython3",
   "version": "3.7.3"
  }
 },
 "nbformat": 4,
 "nbformat_minor": 2
}
