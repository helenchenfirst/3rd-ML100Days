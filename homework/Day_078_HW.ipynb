{
 "cells": [
  {
   "cell_type": "markdown",
   "metadata": {},
   "source": [
    "## Work\n",
    "1. 請嘗試將 preproc_x 替換成以每筆資料的 min/max 進行標準化至 -1 ~ 1 間，再進行訓練\n",
    "2. 請嘗試將 mlp 疊更深 (e.g 5~10 層)，進行訓練後觀察 learning curve 的走勢\n",
    "3. (optional) 請改用 GPU 進行訓練 (如果你有 GPU 的話)，比較使用 CPU 與 GPU 的訓練速度"
   ]
  },
  {
   "cell_type": "code",
   "execution_count": 1,
   "metadata": {},
   "outputs": [],
   "source": [
    "## \n",
    "\"\"\"\n",
    "Your code here (optional)\n",
    "確認硬體資源\n",
    "\"\"\"\n"
   ]
  },
  {
   "cell_type": "code",
   "execution_count": 1,
   "metadata": {},
   "outputs": [
    {
     "name": "stderr",
     "output_type": "stream",
     "text": [
      "Using TensorFlow backend.\n"
     ]
    }
   ],
   "source": [
    "import os\n",
    "import keras\n",
    "\n",
    "# 請嘗試設定 GPU：os.environ\n"
   ]
  },
  {
   "cell_type": "code",
   "execution_count": 2,
   "metadata": {},
   "outputs": [],
   "source": [
    "train, test = keras.datasets.cifar10.load_data()"
   ]
  },
  {
   "cell_type": "code",
   "execution_count": 3,
   "metadata": {},
   "outputs": [],
   "source": [
    "## 資料前處理\n",
    "\"\"\"\n",
    "Your code here\n",
    "\"\"\"\n",
    "def preproc_x(x, flatten=True):\n",
    "    x = x / 255. #normalization\n",
    "    if flatten:\n",
    "        x = x.reshape((len(x), -1))\n",
    "    return x\n",
    "\n",
    "def preproc_y(y, num_classes=10):\n",
    "    if y.shape[-1] == 1:\n",
    "        y = keras.utils.to_categorical(y, num_classes)\n",
    "    return y"
   ]
  },
  {
   "cell_type": "code",
   "execution_count": 4,
   "metadata": {},
   "outputs": [],
   "source": [
    "x_train, y_train = train\n",
    "x_test, y_test = test\n",
    "\n",
    "# Preproc the inputs\n",
    "x_train = preproc_x(x_train)\n",
    "x_test = preproc_x(x_test)\n",
    "\n",
    "# Preprc the outputs\n",
    "y_train = preproc_y(y_train)\n",
    "y_test = preproc_y(y_test)"
   ]
  },
  {
   "cell_type": "code",
   "execution_count": 5,
   "metadata": {},
   "outputs": [
    {
     "name": "stdout",
     "output_type": "stream",
     "text": [
      "WARNING:tensorflow:From C:\\Users\\LuckyLin\\Anaconda3\\lib\\site-packages\\keras\\backend\\tensorflow_backend.py:74: The name tf.get_default_graph is deprecated. Please use tf.compat.v1.get_default_graph instead.\n",
      "\n",
      "WARNING:tensorflow:From C:\\Users\\LuckyLin\\Anaconda3\\lib\\site-packages\\keras\\backend\\tensorflow_backend.py:517: The name tf.placeholder is deprecated. Please use tf.compat.v1.placeholder instead.\n",
      "\n",
      "WARNING:tensorflow:From C:\\Users\\LuckyLin\\Anaconda3\\lib\\site-packages\\keras\\backend\\tensorflow_backend.py:4138: The name tf.random_uniform is deprecated. Please use tf.random.uniform instead.\n",
      "\n",
      "_________________________________________________________________\n",
      "Layer (type)                 Output Shape              Param #   \n",
      "=================================================================\n",
      "input_1 (InputLayer)         (None, 3072)              0         \n",
      "_________________________________________________________________\n",
      "hidden_layer1 (Dense)        (None, 512)               1573376   \n",
      "_________________________________________________________________\n",
      "hidden_layer2 (Dense)        (None, 256)               131328    \n",
      "_________________________________________________________________\n",
      "hidden_layer3 (Dense)        (None, 128)               32896     \n",
      "_________________________________________________________________\n",
      "hidden_layer4 (Dense)        (None, 128)               16512     \n",
      "_________________________________________________________________\n",
      "hidden_layer5 (Dense)        (None, 64)                8256      \n",
      "_________________________________________________________________\n",
      "output (Dense)               (None, 10)                650       \n",
      "=================================================================\n",
      "Total params: 1,763,018\n",
      "Trainable params: 1,763,018\n",
      "Non-trainable params: 0\n",
      "_________________________________________________________________\n"
     ]
    }
   ],
   "source": [
    "\"\"\"Code Here\n",
    "建立你的神經網路\n",
    "\"\"\"\n",
    "def build_mlp(input_shape, output_units=10, num_neurons=[512, 256, 128, 128, 64]):\n",
    "    input_layer = keras.layers.Input(input_shape)\n",
    "    \n",
    "    for i, n_units in enumerate(num_neurons):\n",
    "        if i == 0:\n",
    "            x = keras.layers.Dense(units=n_units, activation=\"relu\", name=\"hidden_layer\"+str(i+1))(input_layer)\n",
    "        else:\n",
    "            x = keras.layers.Dense(units=n_units, activation=\"relu\", name=\"hidden_layer\"+str(i+1))(x)\n",
    "    \n",
    "    out = keras.layers.Dense(units=output_units, activation=\"softmax\", name=\"output\")(x)\n",
    "    \n",
    "    model = keras.models.Model(inputs=[input_layer], outputs=[out])\n",
    "    return model\n",
    "model = build_mlp(input_shape=x_train.shape[1:])\n",
    "model.summary()"
   ]
  },
  {
   "cell_type": "code",
   "execution_count": 6,
   "metadata": {},
   "outputs": [],
   "source": [
    "## 超參數設定\n",
    "LEARNING_RATE = 0.001\n",
    "EPOCHS = 100\n",
    "BATCH_SIZE = 256"
   ]
  },
  {
   "cell_type": "code",
   "execution_count": 7,
   "metadata": {},
   "outputs": [
    {
     "name": "stdout",
     "output_type": "stream",
     "text": [
      "WARNING:tensorflow:From C:\\Users\\LuckyLin\\Anaconda3\\lib\\site-packages\\keras\\optimizers.py:790: The name tf.train.Optimizer is deprecated. Please use tf.compat.v1.train.Optimizer instead.\n",
      "\n",
      "WARNING:tensorflow:From C:\\Users\\LuckyLin\\Anaconda3\\lib\\site-packages\\keras\\backend\\tensorflow_backend.py:3295: The name tf.log is deprecated. Please use tf.math.log instead.\n",
      "\n"
     ]
    }
   ],
   "source": [
    "optimizer = keras.optimizers.Adam(lr=LEARNING_RATE)\n",
    "model.compile(loss=\"categorical_crossentropy\", metrics=[\"accuracy\"], optimizer=optimizer)"
   ]
  },
  {
   "cell_type": "code",
   "execution_count": 8,
   "metadata": {},
   "outputs": [
    {
     "name": "stdout",
     "output_type": "stream",
     "text": [
      "WARNING:tensorflow:From C:\\Users\\LuckyLin\\Anaconda3\\lib\\site-packages\\tensorflow\\python\\ops\\math_grad.py:1250: add_dispatch_support.<locals>.wrapper (from tensorflow.python.ops.array_ops) is deprecated and will be removed in a future version.\n",
      "Instructions for updating:\n",
      "Use tf.where in 2.0, which has the same broadcast rule as np.where\n",
      "WARNING:tensorflow:From C:\\Users\\LuckyLin\\Anaconda3\\lib\\site-packages\\keras\\backend\\tensorflow_backend.py:986: The name tf.assign_add is deprecated. Please use tf.compat.v1.assign_add instead.\n",
      "\n",
      "Train on 50000 samples, validate on 10000 samples\n",
      "Epoch 1/100\n",
      "50000/50000 [==============================] - 44s 875us/step - loss: 1.9676 - acc: 0.2754 - val_loss: 1.7951 - val_acc: 0.3522\n",
      "Epoch 2/100\n",
      "50000/50000 [==============================] - 36s 730us/step - loss: 1.7313 - acc: 0.3728 - val_loss: 1.6909 - val_acc: 0.3862\n",
      "Epoch 3/100\n",
      "50000/50000 [==============================] - 37s 733us/step - loss: 1.6513 - acc: 0.4089 - val_loss: 1.6167 - val_acc: 0.4122\n",
      "Epoch 4/100\n",
      "50000/50000 [==============================] - 35s 706us/step - loss: 1.5793 - acc: 0.4342 - val_loss: 1.5441 - val_acc: 0.4498\n",
      "Epoch 5/100\n",
      "50000/50000 [==============================] - 37s 747us/step - loss: 1.5332 - acc: 0.4500 - val_loss: 1.5067 - val_acc: 0.4595\n",
      "Epoch 6/100\n",
      "50000/50000 [==============================] - 40s 793us/step - loss: 1.4916 - acc: 0.4662 - val_loss: 1.5133 - val_acc: 0.4618\n",
      "Epoch 7/100\n",
      "50000/50000 [==============================] - 37s 734us/step - loss: 1.4629 - acc: 0.4781 - val_loss: 1.5008 - val_acc: 0.4654\n",
      "Epoch 8/100\n",
      "50000/50000 [==============================] - 36s 730us/step - loss: 1.4343 - acc: 0.4883 - val_loss: 1.4742 - val_acc: 0.4717\n",
      "Epoch 9/100\n",
      "50000/50000 [==============================] - 36s 729us/step - loss: 1.4101 - acc: 0.4944 - val_loss: 1.4673 - val_acc: 0.4745\n",
      "Epoch 10/100\n",
      "50000/50000 [==============================] - 36s 715us/step - loss: 1.3745 - acc: 0.5111 - val_loss: 1.4576 - val_acc: 0.4802\n",
      "Epoch 11/100\n",
      "50000/50000 [==============================] - 37s 743us/step - loss: 1.3422 - acc: 0.5204 - val_loss: 1.5088 - val_acc: 0.4718\n",
      "Epoch 12/100\n",
      "50000/50000 [==============================] - 37s 734us/step - loss: 1.3317 - acc: 0.5237 - val_loss: 1.4044 - val_acc: 0.5036\n",
      "Epoch 13/100\n",
      "50000/50000 [==============================] - 36s 722us/step - loss: 1.3111 - acc: 0.5310 - val_loss: 1.4171 - val_acc: 0.5011\n",
      "Epoch 14/100\n",
      "50000/50000 [==============================] - 36s 716us/step - loss: 1.2869 - acc: 0.5405 - val_loss: 1.4925 - val_acc: 0.4752\n",
      "Epoch 15/100\n",
      "50000/50000 [==============================] - 37s 733us/step - loss: 1.2617 - acc: 0.5494 - val_loss: 1.4275 - val_acc: 0.4998\n",
      "Epoch 16/100\n",
      "50000/50000 [==============================] - 36s 725us/step - loss: 1.2388 - acc: 0.5563 - val_loss: 1.3746 - val_acc: 0.5156\n",
      "Epoch 17/100\n",
      "50000/50000 [==============================] - 36s 711us/step - loss: 1.2096 - acc: 0.5666 - val_loss: 1.3967 - val_acc: 0.5091\n",
      "Epoch 18/100\n",
      "50000/50000 [==============================] - 36s 710us/step - loss: 1.1983 - acc: 0.5730 - val_loss: 1.3816 - val_acc: 0.5199\n",
      "Epoch 19/100\n",
      "50000/50000 [==============================] - 37s 736us/step - loss: 1.1748 - acc: 0.5810 - val_loss: 1.4431 - val_acc: 0.5082\n",
      "Epoch 20/100\n",
      "50000/50000 [==============================] - 36s 717us/step - loss: 1.1579 - acc: 0.5851 - val_loss: 1.3875 - val_acc: 0.5159\n",
      "Epoch 21/100\n",
      "50000/50000 [==============================] - 36s 712us/step - loss: 1.1370 - acc: 0.5922 - val_loss: 1.3782 - val_acc: 0.5220\n",
      "Epoch 22/100\n",
      "50000/50000 [==============================] - 36s 716us/step - loss: 1.1087 - acc: 0.6036 - val_loss: 1.3901 - val_acc: 0.5181\n",
      "Epoch 23/100\n",
      "50000/50000 [==============================] - 37s 737us/step - loss: 1.0988 - acc: 0.6075 - val_loss: 1.3828 - val_acc: 0.5219\n",
      "Epoch 24/100\n",
      "50000/50000 [==============================] - 36s 723us/step - loss: 1.0709 - acc: 0.6171 - val_loss: 1.4521 - val_acc: 0.5029\n",
      "Epoch 25/100\n",
      "50000/50000 [==============================] - 36s 723us/step - loss: 1.0493 - acc: 0.6244 - val_loss: 1.3899 - val_acc: 0.5306\n",
      "Epoch 26/100\n",
      "50000/50000 [==============================] - 36s 721us/step - loss: 1.0346 - acc: 0.6312 - val_loss: 1.3644 - val_acc: 0.5352\n",
      "Epoch 27/100\n",
      "50000/50000 [==============================] - 37s 742us/step - loss: 1.0163 - acc: 0.6367 - val_loss: 1.4107 - val_acc: 0.5247\n",
      "Epoch 28/100\n",
      "50000/50000 [==============================] - 36s 712us/step - loss: 0.9947 - acc: 0.6437 - val_loss: 1.4294 - val_acc: 0.5253\n",
      "Epoch 29/100\n",
      "50000/50000 [==============================] - 39s 787us/step - loss: 0.9700 - acc: 0.6527 - val_loss: 1.4796 - val_acc: 0.5175\n",
      "Epoch 30/100\n",
      "50000/50000 [==============================] - 40s 805us/step - loss: 0.9647 - acc: 0.6542 - val_loss: 1.4101 - val_acc: 0.5353\n",
      "Epoch 31/100\n",
      "50000/50000 [==============================] - 273s 5ms/step - loss: 0.9443 - acc: 0.6612 - val_loss: 1.4381 - val_acc: 0.5285\n",
      "Epoch 32/100\n",
      "50000/50000 [==============================] - 41s 818us/step - loss: 0.9259 - acc: 0.6666 - val_loss: 1.4641 - val_acc: 0.5300\n",
      "Epoch 33/100\n",
      "50000/50000 [==============================] - 38s 752us/step - loss: 0.9000 - acc: 0.6772 - val_loss: 1.4589 - val_acc: 0.5341\n",
      "Epoch 34/100\n",
      "50000/50000 [==============================] - 36s 724us/step - loss: 0.8978 - acc: 0.6780 - val_loss: 1.5238 - val_acc: 0.5202\n",
      "Epoch 35/100\n",
      "50000/50000 [==============================] - 37s 749us/step - loss: 0.8640 - acc: 0.6906 - val_loss: 1.5193 - val_acc: 0.5266\n",
      "Epoch 36/100\n",
      "50000/50000 [==============================] - 36s 726us/step - loss: 0.8581 - acc: 0.6925 - val_loss: 1.5298 - val_acc: 0.5230\n",
      "Epoch 37/100\n",
      "50000/50000 [==============================] - 36s 724us/step - loss: 0.8403 - acc: 0.6964 - val_loss: 1.5733 - val_acc: 0.5150\n",
      "Epoch 38/100\n",
      "50000/50000 [==============================] - 38s 757us/step - loss: 0.8155 - acc: 0.7086 - val_loss: 1.5501 - val_acc: 0.5274\n",
      "Epoch 39/100\n",
      "50000/50000 [==============================] - 36s 727us/step - loss: 0.8016 - acc: 0.7107 - val_loss: 1.5819 - val_acc: 0.5130\n",
      "Epoch 40/100\n",
      "50000/50000 [==============================] - 37s 746us/step - loss: 0.8051 - acc: 0.7097 - val_loss: 1.5890 - val_acc: 0.5208\n",
      "Epoch 41/100\n",
      "50000/50000 [==============================] - 37s 744us/step - loss: 0.7715 - acc: 0.7211 - val_loss: 1.5979 - val_acc: 0.5197\n",
      "Epoch 42/100\n",
      "50000/50000 [==============================] - 37s 740us/step - loss: 0.7509 - acc: 0.7302 - val_loss: 1.6562 - val_acc: 0.5187\n",
      "Epoch 43/100\n",
      "50000/50000 [==============================] - 36s 728us/step - loss: 0.7386 - acc: 0.7348 - val_loss: 1.6922 - val_acc: 0.5188\n",
      "Epoch 44/100\n",
      "50000/50000 [==============================] - 37s 742us/step - loss: 0.7223 - acc: 0.7368 - val_loss: 1.7157 - val_acc: 0.5272\n",
      "Epoch 45/100\n",
      "50000/50000 [==============================] - 38s 768us/step - loss: 0.7097 - acc: 0.7430 - val_loss: 1.6713 - val_acc: 0.5245\n",
      "Epoch 46/100\n",
      "50000/50000 [==============================] - 37s 731us/step - loss: 0.6879 - acc: 0.7525 - val_loss: 1.7855 - val_acc: 0.5191\n",
      "Epoch 47/100\n",
      "50000/50000 [==============================] - 37s 736us/step - loss: 0.6705 - acc: 0.7606 - val_loss: 1.7756 - val_acc: 0.5255\n",
      "Epoch 48/100\n",
      "50000/50000 [==============================] - 37s 746us/step - loss: 0.6486 - acc: 0.7664 - val_loss: 1.7657 - val_acc: 0.5195\n",
      "Epoch 49/100\n",
      "50000/50000 [==============================] - 36s 728us/step - loss: 0.6491 - acc: 0.7671 - val_loss: 1.7925 - val_acc: 0.5207\n",
      "Epoch 50/100\n",
      "50000/50000 [==============================] - 36s 721us/step - loss: 0.6365 - acc: 0.7715 - val_loss: 1.8526 - val_acc: 0.5110\n",
      "Epoch 51/100\n",
      "50000/50000 [==============================] - 38s 754us/step - loss: 0.6243 - acc: 0.7759 - val_loss: 1.8947 - val_acc: 0.5169\n",
      "Epoch 52/100\n",
      "50000/50000 [==============================] - 36s 725us/step - loss: 0.6252 - acc: 0.7755 - val_loss: 1.9138 - val_acc: 0.4992\n",
      "Epoch 53/100\n",
      "50000/50000 [==============================] - 37s 742us/step - loss: 0.6222 - acc: 0.7755 - val_loss: 1.9060 - val_acc: 0.5112\n",
      "Epoch 54/100\n",
      "50000/50000 [==============================] - 37s 745us/step - loss: 0.5941 - acc: 0.7856 - val_loss: 1.9080 - val_acc: 0.5150\n",
      "Epoch 55/100\n"
     ]
    },
    {
     "name": "stdout",
     "output_type": "stream",
     "text": [
      "50000/50000 [==============================] - 37s 730us/step - loss: 0.5769 - acc: 0.7925 - val_loss: 1.9793 - val_acc: 0.5136\n",
      "Epoch 56/100\n",
      "50000/50000 [==============================] - 36s 723us/step - loss: 0.5537 - acc: 0.7985 - val_loss: 1.9492 - val_acc: 0.5192\n",
      "Epoch 57/100\n",
      "50000/50000 [==============================] - 35s 698us/step - loss: 0.5677 - acc: 0.7953 - val_loss: 2.0982 - val_acc: 0.5107\n",
      "Epoch 58/100\n",
      "50000/50000 [==============================] - 37s 736us/step - loss: 0.5488 - acc: 0.8028 - val_loss: 2.0993 - val_acc: 0.5073\n",
      "Epoch 59/100\n",
      "50000/50000 [==============================] - 35s 709us/step - loss: 0.5388 - acc: 0.8062 - val_loss: 2.1288 - val_acc: 0.5155\n",
      "Epoch 60/100\n",
      "50000/50000 [==============================] - 36s 717us/step - loss: 0.5327 - acc: 0.8062 - val_loss: 2.1830 - val_acc: 0.5152\n",
      "Epoch 61/100\n",
      "50000/50000 [==============================] - 36s 711us/step - loss: 0.5290 - acc: 0.8114 - val_loss: 2.1497 - val_acc: 0.5108\n",
      "Epoch 62/100\n",
      "50000/50000 [==============================] - 37s 743us/step - loss: 0.5291 - acc: 0.8099 - val_loss: 2.1121 - val_acc: 0.5030\n",
      "Epoch 63/100\n",
      "50000/50000 [==============================] - 35s 700us/step - loss: 0.4956 - acc: 0.8230 - val_loss: 2.2390 - val_acc: 0.5117\n",
      "Epoch 64/100\n",
      "50000/50000 [==============================] - 54s 1ms/step - loss: 0.4991 - acc: 0.8198 - val_loss: 2.2612 - val_acc: 0.5047\n",
      "Epoch 65/100\n",
      "50000/50000 [==============================] - 73s 1ms/step - loss: 0.4920 - acc: 0.8195 - val_loss: 2.2650 - val_acc: 0.5109\n",
      "Epoch 66/100\n",
      "50000/50000 [==============================] - 78s 2ms/step - loss: 0.4683 - acc: 0.8308 - val_loss: 2.2710 - val_acc: 0.5114\n",
      "Epoch 67/100\n",
      "50000/50000 [==============================] - 50s 995us/step - loss: 0.4685 - acc: 0.8319 - val_loss: 2.3414 - val_acc: 0.5026\n",
      "Epoch 68/100\n",
      "50000/50000 [==============================] - 40s 807us/step - loss: 0.4601 - acc: 0.8331 - val_loss: 2.3765 - val_acc: 0.5061\n",
      "Epoch 69/100\n",
      "50000/50000 [==============================] - 39s 779us/step - loss: 0.4672 - acc: 0.8317 - val_loss: 2.3417 - val_acc: 0.5115\n",
      "Epoch 70/100\n",
      "50000/50000 [==============================] - 47s 949us/step - loss: 0.4327 - acc: 0.8437 - val_loss: 2.3988 - val_acc: 0.5122\n",
      "Epoch 71/100\n",
      "50000/50000 [==============================] - 65s 1ms/step - loss: 0.4327 - acc: 0.8447 - val_loss: 2.4023 - val_acc: 0.5080\n",
      "Epoch 72/100\n",
      "50000/50000 [==============================] - 53s 1ms/step - loss: 0.4410 - acc: 0.8425 - val_loss: 2.4233 - val_acc: 0.5116\n",
      "Epoch 73/100\n",
      "50000/50000 [==============================] - 39s 789us/step - loss: 0.4330 - acc: 0.8430 - val_loss: 2.4526 - val_acc: 0.5046\n",
      "Epoch 74/100\n",
      "50000/50000 [==============================] - 37s 738us/step - loss: 0.4191 - acc: 0.8483 - val_loss: 2.5358 - val_acc: 0.5066\n",
      "Epoch 75/100\n",
      "50000/50000 [==============================] - 37s 730us/step - loss: 0.4195 - acc: 0.8479 - val_loss: 2.4947 - val_acc: 0.5013\n",
      "Epoch 76/100\n",
      "50000/50000 [==============================] - 36s 717us/step - loss: 0.3946 - acc: 0.8573 - val_loss: 2.5201 - val_acc: 0.5085\n",
      "Epoch 77/100\n",
      "50000/50000 [==============================] - 37s 731us/step - loss: 0.4058 - acc: 0.8537 - val_loss: 2.6247 - val_acc: 0.5018\n",
      "Epoch 78/100\n",
      "50000/50000 [==============================] - 37s 740us/step - loss: 0.3868 - acc: 0.8606 - val_loss: 2.6180 - val_acc: 0.5023\n",
      "Epoch 79/100\n",
      "50000/50000 [==============================] - 39s 788us/step - loss: 0.3813 - acc: 0.8615 - val_loss: 2.6166 - val_acc: 0.5096\n",
      "Epoch 80/100\n",
      "50000/50000 [==============================] - 48s 967us/step - loss: 0.3988 - acc: 0.8558 - val_loss: 2.6482 - val_acc: 0.5055\n",
      "Epoch 81/100\n",
      "50000/50000 [==============================] - 39s 779us/step - loss: 0.3856 - acc: 0.8588 - val_loss: 2.6876 - val_acc: 0.5019\n",
      "Epoch 82/100\n",
      "50000/50000 [==============================] - 37s 738us/step - loss: 0.3737 - acc: 0.8650 - val_loss: 2.7192 - val_acc: 0.5061\n",
      "Epoch 83/100\n",
      "50000/50000 [==============================] - 36s 729us/step - loss: 0.3822 - acc: 0.8629 - val_loss: 2.6749 - val_acc: 0.5096\n",
      "Epoch 84/100\n",
      "50000/50000 [==============================] - 35s 708us/step - loss: 0.3504 - acc: 0.8731 - val_loss: 2.7605 - val_acc: 0.5042\n",
      "Epoch 85/100\n",
      "50000/50000 [==============================] - 34s 682us/step - loss: 0.3528 - acc: 0.8731 - val_loss: 2.7408 - val_acc: 0.5056\n",
      "Epoch 86/100\n",
      "50000/50000 [==============================] - 34s 687us/step - loss: 0.3492 - acc: 0.8734 - val_loss: 2.7475 - val_acc: 0.4962\n",
      "Epoch 87/100\n",
      "50000/50000 [==============================] - 34s 677us/step - loss: 0.3632 - acc: 0.8699 - val_loss: 2.7517 - val_acc: 0.4937\n",
      "Epoch 88/100\n",
      "50000/50000 [==============================] - 34s 682us/step - loss: 0.3482 - acc: 0.8756 - val_loss: 2.6989 - val_acc: 0.5079\n",
      "Epoch 89/100\n",
      "50000/50000 [==============================] - 34s 680us/step - loss: 0.3506 - acc: 0.8746 - val_loss: 2.8109 - val_acc: 0.5049\n",
      "Epoch 90/100\n",
      "50000/50000 [==============================] - 34s 689us/step - loss: 0.3324 - acc: 0.8801 - val_loss: 2.9092 - val_acc: 0.5042\n",
      "Epoch 91/100\n",
      "50000/50000 [==============================] - 34s 679us/step - loss: 0.3212 - acc: 0.8856 - val_loss: 2.9301 - val_acc: 0.4993\n",
      "Epoch 92/100\n",
      "50000/50000 [==============================] - 34s 679us/step - loss: 0.3288 - acc: 0.8827 - val_loss: 2.9678 - val_acc: 0.5007\n",
      "Epoch 93/100\n",
      "50000/50000 [==============================] - 34s 685us/step - loss: 0.3550 - acc: 0.8742 - val_loss: 2.8518 - val_acc: 0.5009\n",
      "Epoch 94/100\n",
      "50000/50000 [==============================] - 34s 672us/step - loss: 0.3389 - acc: 0.8776 - val_loss: 2.8847 - val_acc: 0.5082\n",
      "Epoch 95/100\n",
      "50000/50000 [==============================] - 34s 686us/step - loss: 0.3372 - acc: 0.8805 - val_loss: 2.8557 - val_acc: 0.4964\n",
      "Epoch 96/100\n",
      "50000/50000 [==============================] - 34s 680us/step - loss: 0.2972 - acc: 0.8938 - val_loss: 2.9817 - val_acc: 0.5022\n",
      "Epoch 97/100\n",
      "50000/50000 [==============================] - 34s 678us/step - loss: 0.2805 - acc: 0.8993 - val_loss: 3.0651 - val_acc: 0.5032\n",
      "Epoch 98/100\n",
      "50000/50000 [==============================] - 34s 686us/step - loss: 0.2983 - acc: 0.8927 - val_loss: 3.0552 - val_acc: 0.5033\n",
      "Epoch 99/100\n",
      "50000/50000 [==============================] - 34s 675us/step - loss: 0.3202 - acc: 0.8858 - val_loss: 3.0741 - val_acc: 0.4987\n",
      "Epoch 100/100\n",
      "50000/50000 [==============================] - 34s 689us/step - loss: 0.3270 - acc: 0.8830 - val_loss: 3.1333 - val_acc: 0.4928\n"
     ]
    },
    {
     "data": {
      "text/plain": [
       "<keras.callbacks.History at 0x7280859390>"
      ]
     },
     "execution_count": 8,
     "metadata": {},
     "output_type": "execute_result"
    }
   ],
   "source": [
    "model.fit(x_train, y_train, \n",
    "          epochs=EPOCHS, \n",
    "          batch_size=BATCH_SIZE, \n",
    "          validation_data=(x_test, y_test), \n",
    "          shuffle=True)"
   ]
  },
  {
   "cell_type": "code",
   "execution_count": 9,
   "metadata": {},
   "outputs": [
    {
     "data": {
      "text/plain": [
       "<Figure size 640x480 with 1 Axes>"
      ]
     },
     "metadata": {},
     "output_type": "display_data"
    },
    {
     "data": {
      "text/plain": [
       "<Figure size 640x480 with 1 Axes>"
      ]
     },
     "metadata": {},
     "output_type": "display_data"
    }
   ],
   "source": [
    "import matplotlib.pyplot as plt\n",
    "\n",
    "\n",
    "train_loss = model.history.history[\"loss\"]\n",
    "valid_loss = model.history.history[\"val_loss\"]\n",
    "\n",
    "train_acc = model.history.history[\"acc\"]\n",
    "valid_acc = model.history.history[\"val_acc\"]\n",
    "\n",
    "plt.plot(range(len(train_loss)), train_loss, label=\"train loss\")\n",
    "plt.plot(range(len(valid_loss)), valid_loss, label=\"valid loss\")\n",
    "plt.legend()\n",
    "plt.title(\"Loss\")\n",
    "plt.show()\n",
    "\n",
    "plt.plot(range(len(train_acc)), train_acc, label=\"train accuracy\")\n",
    "plt.plot(range(len(valid_acc)), valid_acc, label=\"valid accuracy\")\n",
    "plt.legend()\n",
    "plt.title(\"Accuracy\")\n",
    "plt.show()"
   ]
  },
  {
   "cell_type": "code",
   "execution_count": null,
   "metadata": {},
   "outputs": [],
   "source": []
  }
 ],
 "metadata": {
  "kernelspec": {
   "display_name": "Python 3",
   "language": "python",
   "name": "python3"
  },
  "language_info": {
   "codemirror_mode": {
    "name": "ipython",
    "version": 3
   },
   "file_extension": ".py",
   "mimetype": "text/x-python",
   "name": "python",
   "nbconvert_exporter": "python",
   "pygments_lexer": "ipython3",
   "version": "3.7.3"
  }
 },
 "nbformat": 4,
 "nbformat_minor": 2
}
